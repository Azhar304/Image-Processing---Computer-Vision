{
 "cells": [
  {
   "cell_type": "markdown",
   "metadata": {},
   "source": [
    "**Tensors in tensorflow**"
   ]
  },
  {
   "cell_type": "code",
   "execution_count": 1,
   "metadata": {},
   "outputs": [
    {
     "name": "stdout",
     "output_type": "stream",
     "text": [
      "tf.Tensor(10, shape=(), dtype=int32)\n"
     ]
    }
   ],
   "source": [
    "import tensorflow as  tf\n",
    "tensor_zero_d=tf.constant(10)\n",
    "\n",
    "print(tensor_zero_d)"
   ]
  },
  {
   "cell_type": "code",
   "execution_count": 21,
   "metadata": {},
   "outputs": [
    {
     "name": "stdout",
     "output_type": "stream",
     "text": [
      "tf.Tensor([10.  2.  4.], shape=(3,), dtype=float32)\n"
     ]
    },
    {
     "data": {
      "text/plain": [
       "<tf.Tensor: shape=(3,), dtype=int16, numpy=array([10,  2,  4], dtype=int16)>"
      ]
     },
     "execution_count": 21,
     "metadata": {},
     "output_type": "execute_result"
    }
   ],
   "source": [
    "tensor_one_d=tf.constant([10,2,4], dtype=tf.float32)\n",
    "casted_tenosr_1d=tf.cast(tensor_one_d, dtype=tf.int16)\n",
    "print(tensor_one_d)\n",
    "casted_tenosr_1d"
   ]
  },
  {
   "cell_type": "code",
   "execution_count": 7,
   "metadata": {},
   "outputs": [
    {
     "name": "stdout",
     "output_type": "stream",
     "text": [
      "tf.Tensor(\n",
      "[[1 4 5]\n",
      " [2 4 6]\n",
      " [3 6 7]], shape=(3, 3), dtype=int32)\n"
     ]
    }
   ],
   "source": [
    "tensor_2d=tf.constant([\n",
    "    [1,4,5],\n",
    "    [2,4,6],\n",
    "    [3,6,7]\n",
    "    ])\n",
    "print(tensor_2d)"
   ]
  },
  {
   "cell_type": "code",
   "execution_count": 16,
   "metadata": {},
   "outputs": [
    {
     "name": "stdout",
     "output_type": "stream",
     "text": [
      "tf.Tensor(\n",
      "[[[1 4 5]\n",
      "  [2 4 6]]\n",
      "\n",
      " [[1 5 7]\n",
      "  [2 5 8]]\n",
      "\n",
      " [[3 4 5]\n",
      "  [4 5 6]]], shape=(3, 2, 3), dtype=int32)\n",
      "3\n"
     ]
    },
    {
     "data": {
      "text/plain": [
       "TensorShape([3, 2, 3])"
      ]
     },
     "execution_count": 16,
     "metadata": {},
     "output_type": "execute_result"
    }
   ],
   "source": [
    "tensor_3d=tf.constant([\n",
    "    [[1,4,5],\n",
    "    [2,4,6]],\n",
    "\n",
    "    [[1,5,7],\n",
    "    [2,5,8]],\n",
    "\n",
    "    [[3,4,5],\n",
    "    [4,5,6]]\n",
    "])\n",
    "\n",
    "print(tensor_3d)\n",
    "print(tensor_3d.ndim)\n",
    "tensor_3d.shape"
   ]
  },
  {
   "cell_type": "code",
   "execution_count": 19,
   "metadata": {},
   "outputs": [
    {
     "name": "stdout",
     "output_type": "stream",
     "text": [
      "tf.Tensor(\n",
      "[[[[1 4 5]\n",
      "   [2 4 6]]\n",
      "\n",
      "  [[1 5 7]\n",
      "   [2 5 8]]\n",
      "\n",
      "  [[3 4 5]\n",
      "   [4 5 6]]]\n",
      "\n",
      "\n",
      " [[[1 5 3]\n",
      "   [2 7 6]]\n",
      "\n",
      "  [[1 5 0]\n",
      "   [2 9 8]]\n",
      "\n",
      "  [[3 6 5]\n",
      "   [4 2 6]]]\n",
      "\n",
      "\n",
      " [[[1 4 5]\n",
      "   [2 4 6]]\n",
      "\n",
      "  [[1 5 7]\n",
      "   [2 5 8]]\n",
      "\n",
      "  [[3 4 5]\n",
      "   [4 5 6]]]], shape=(3, 3, 2, 3), dtype=int32)\n"
     ]
    }
   ],
   "source": [
    "tensors_4d=tf.constant([\n",
    "[\n",
    "    [[1,4,5],\n",
    "    [2,4,6]],\n",
    "\n",
    "    [[1,5,7],\n",
    "    [2,5,8]],\n",
    "\n",
    "    [[3,4,5],\n",
    "    [4,5,6]],\n",
    "],\n",
    "[\n",
    "    [[1,5,3],\n",
    "    [2,7,6]],\n",
    "\n",
    "    [[1,5,0],\n",
    "    [2,9,8]],\n",
    "\n",
    "    [[3,6,5],\n",
    "    [4,2,6]],\n",
    "],\n",
    "[\n",
    "    [[1,4,5],\n",
    "    [2,4,6]],\n",
    "\n",
    "    [[1,5,7],\n",
    "    [2,5,8]],\n",
    "\n",
    "    [[3,4,5],\n",
    "    [4,5,6]],\n",
    "],\n",
    "])\n",
    "\n",
    "print(tensors_4d)"
   ]
  },
  {
   "cell_type": "code",
   "execution_count": null,
   "metadata": {},
   "outputs": [],
   "source": []
  }
 ],
 "metadata": {
  "kernelspec": {
   "display_name": "Python 3",
   "language": "python",
   "name": "python3"
  },
  "language_info": {
   "codemirror_mode": {
    "name": "ipython",
    "version": 3
   },
   "file_extension": ".py",
   "mimetype": "text/x-python",
   "name": "python",
   "nbconvert_exporter": "python",
   "pygments_lexer": "ipython3",
   "version": "3.12.4"
  }
 },
 "nbformat": 4,
 "nbformat_minor": 2
}
