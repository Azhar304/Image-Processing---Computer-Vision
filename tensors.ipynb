{
 "cells": [
  {
   "cell_type": "markdown",
   "metadata": {},
   "source": [
    "**Tensors in tensorflow**"
   ]
  },
  {
   "cell_type": "code",
   "execution_count": 5,
   "metadata": {},
   "outputs": [
    {
     "name": "stdout",
     "output_type": "stream",
     "text": [
      "tf.Tensor(10, shape=(), dtype=int32)\n"
     ]
    }
   ],
   "source": [
    "import tensorflow as  tf\n",
    "tensor_zero_d=tf.constant(10)\n",
    "\n",
    "print(tensor_zero_d)"
   ]
  },
  {
   "cell_type": "code",
   "execution_count": 21,
   "metadata": {},
   "outputs": [
    {
     "name": "stdout",
     "output_type": "stream",
     "text": [
      "tf.Tensor([10.  2.  4.], shape=(3,), dtype=float32)\n"
     ]
    },
    {
     "data": {
      "text/plain": [
       "<tf.Tensor: shape=(3,), dtype=int16, numpy=array([10,  2,  4], dtype=int16)>"
      ]
     },
     "execution_count": 21,
     "metadata": {},
     "output_type": "execute_result"
    }
   ],
   "source": [
    "tensor_one_d=tf.constant([10,2,4], dtype=tf.float32)\n",
    "casted_tenosr_1d=tf.cast(tensor_one_d, dtype=tf.int16)\n",
    "print(tensor_one_d)\n",
    "casted_tenosr_1d"
   ]
  },
  {
   "cell_type": "code",
   "execution_count": 7,
   "metadata": {},
   "outputs": [
    {
     "name": "stdout",
     "output_type": "stream",
     "text": [
      "tf.Tensor(\n",
      "[[1 4 5]\n",
      " [2 4 6]\n",
      " [3 6 7]], shape=(3, 3), dtype=int32)\n"
     ]
    }
   ],
   "source": [
    "tensor_2d=tf.constant([\n",
    "    [1,4,5],\n",
    "    [2,4,6],\n",
    "    [3,6,7]\n",
    "    ])\n",
    "print(tensor_2d)"
   ]
  },
  {
   "cell_type": "code",
   "execution_count": 16,
   "metadata": {},
   "outputs": [
    {
     "name": "stdout",
     "output_type": "stream",
     "text": [
      "tf.Tensor(\n",
      "[[[1 4 5]\n",
      "  [2 4 6]]\n",
      "\n",
      " [[1 5 7]\n",
      "  [2 5 8]]\n",
      "\n",
      " [[3 4 5]\n",
      "  [4 5 6]]], shape=(3, 2, 3), dtype=int32)\n",
      "3\n"
     ]
    },
    {
     "data": {
      "text/plain": [
       "TensorShape([3, 2, 3])"
      ]
     },
     "execution_count": 16,
     "metadata": {},
     "output_type": "execute_result"
    }
   ],
   "source": [
    "tensor_3d=tf.constant([\n",
    "    [[1,4,5],\n",
    "    [2,4,6]],\n",
    "\n",
    "    [[1,5,7],\n",
    "    [2,5,8]],\n",
    "\n",
    "    [[3,4,5],\n",
    "    [4,5,6]]\n",
    "])\n",
    "\n",
    "print(tensor_3d)\n",
    "print(tensor_3d.ndim)\n",
    "tensor_3d.shape"
   ]
  },
  {
   "cell_type": "code",
   "execution_count": 19,
   "metadata": {},
   "outputs": [
    {
     "name": "stdout",
     "output_type": "stream",
     "text": [
      "tf.Tensor(\n",
      "[[[[1 4 5]\n",
      "   [2 4 6]]\n",
      "\n",
      "  [[1 5 7]\n",
      "   [2 5 8]]\n",
      "\n",
      "  [[3 4 5]\n",
      "   [4 5 6]]]\n",
      "\n",
      "\n",
      " [[[1 5 3]\n",
      "   [2 7 6]]\n",
      "\n",
      "  [[1 5 0]\n",
      "   [2 9 8]]\n",
      "\n",
      "  [[3 6 5]\n",
      "   [4 2 6]]]\n",
      "\n",
      "\n",
      " [[[1 4 5]\n",
      "   [2 4 6]]\n",
      "\n",
      "  [[1 5 7]\n",
      "   [2 5 8]]\n",
      "\n",
      "  [[3 4 5]\n",
      "   [4 5 6]]]], shape=(3, 3, 2, 3), dtype=int32)\n"
     ]
    }
   ],
   "source": [
    "tensors_4d=tf.constant([\n",
    "[\n",
    "    [[1,4,5],\n",
    "    [2,4,6]],\n",
    "\n",
    "    [[1,5,7],\n",
    "    [2,5,8]],\n",
    "\n",
    "    [[3,4,5],\n",
    "    [4,5,6]],\n",
    "],\n",
    "[\n",
    "    [[1,5,3],\n",
    "    [2,7,6]],\n",
    "\n",
    "    [[1,5,0],\n",
    "    [2,9,8]],\n",
    "\n",
    "    [[3,6,5],\n",
    "    [4,2,6]],\n",
    "],\n",
    "[\n",
    "    [[1,4,5],\n",
    "    [2,4,6]],\n",
    "\n",
    "    [[1,5,7],\n",
    "    [2,5,8]],\n",
    "\n",
    "    [[3,4,5],\n",
    "    [4,5,6]],\n",
    "],\n",
    "])\n",
    "\n",
    "print(tensors_4d)"
   ]
  },
  {
   "cell_type": "markdown",
   "metadata": {},
   "source": [
    "__Numpy to tensor__"
   ]
  },
  {
   "cell_type": "code",
   "execution_count": 2,
   "metadata": {},
   "outputs": [
    {
     "name": "stdout",
     "output_type": "stream",
     "text": [
      "[1 2 3 4 5 6]\n"
     ]
    }
   ],
   "source": [
    "import numpy as np\n",
    "np_array=np.array([1,2,3,4,5,6])\n",
    "print(np_array)"
   ]
  },
  {
   "cell_type": "code",
   "execution_count": 6,
   "metadata": {},
   "outputs": [
    {
     "name": "stdout",
     "output_type": "stream",
     "text": [
      "tf.Tensor([1 2 3 4 5 6], shape=(6,), dtype=int32)\n"
     ]
    }
   ],
   "source": [
    "array_to_tenor=tf.convert_to_tensor(np_array)\n",
    "print(array_to_tenor)"
   ]
  },
  {
   "cell_type": "markdown",
   "metadata": {},
   "source": [
    "**identity matrix  in tensor**"
   ]
  },
  {
   "cell_type": "code",
   "execution_count": null,
   "metadata": {},
   "outputs": [
    {
     "name": "stdout",
     "output_type": "stream",
     "text": [
      "tf.Tensor(\n",
      "[[1. 0. 0. 0. 0.]\n",
      " [0. 1. 0. 0. 0.]\n",
      " [0. 0. 1. 0. 0.]\n",
      " [0. 0. 0. 1. 0.]], shape=(4, 5), dtype=float16) \n",
      "\n",
      "tf.Tensor(\n",
      "[[2. 0. 0. 0. 0.]\n",
      " [0. 2. 0. 0. 0.]\n",
      " [0. 0. 2. 0. 0.]\n",
      " [0. 0. 0. 2. 0.]], shape=(4, 5), dtype=float16) \n",
      "\n",
      "tf.Tensor(\n",
      "[[3. 0. 0. 0. 0.]\n",
      " [0. 3. 0. 0. 0.]\n",
      " [0. 0. 3. 0. 0.]\n",
      " [0. 0. 0. 3. 0.]], shape=(4, 5), dtype=float16)\n",
      "\n",
      " tf.Tensor(\n",
      "[[ True False False False False]\n",
      " [False  True False False False]\n",
      " [False False  True False False]\n",
      " [False False False  True False]], shape=(4, 5), dtype=bool)\n",
      "matrix batches : \n",
      " [[[1. 0. 0. 0. 0.]\n",
      "  [0. 1. 0. 0. 0.]\n",
      "  [0. 0. 1. 0. 0.]\n",
      "  [0. 0. 0. 1. 0.]]\n",
      "\n",
      " [[1. 0. 0. 0. 0.]\n",
      "  [0. 1. 0. 0. 0.]\n",
      "  [0. 0. 1. 0. 0.]\n",
      "  [0. 0. 0. 1. 0.]]] \n",
      "\n"
     ]
    }
   ],
   "source": [
    "#identity matrix\n",
    "identity_mat=tf.eye(\n",
    "    num_rows=4,\n",
    "    num_columns=5,\n",
    "    batch_shape=None,\n",
    "    dtype=tf.dtypes.float16\n",
    ")\n",
    "print(identity_mat,\"\\n\")\n",
    "#to make it any number\n",
    "print(2*identity_mat, \"\\n\")\n",
    "print(3*identity_mat)\n",
    "\n",
    "#we can also make it bool\n",
    "identity_mat_bool=tf.eye(\n",
    "    num_rows=4,\n",
    "    num_columns=5,\n",
    "    batch_shape=None,\n",
    "    dtype=tf.dtypes.bool\n",
    ")\n",
    "print(\"\\n\",identity_mat_bool)\n",
    "\n",
    "#batch shape is for num of batches\n",
    "identity_mat_batches=tf.eye(\n",
    "    num_rows=4,\n",
    "    num_columns=5,\n",
    "    batch_shape=[2], #we can alos pass it a shape like [2,5]\n",
    "    dtype=tf.dtypes.float16\n",
    ")\n",
    "print(f\"matrix batches : {\"\\n\"} {identity_mat_batches}\",\"\\n\")"
   ]
  },
  {
   "cell_type": "markdown",
   "metadata": {},
   "source": [
    "**Filling the matrices\"\""
   ]
  },
  {
   "cell_type": "code",
   "execution_count": 24,
   "metadata": {},
   "outputs": [
    {
     "name": "stdout",
     "output_type": "stream",
     "text": [
      "tf.Tensor(\n",
      "[[5 5 5 5]\n",
      " [5 5 5 5]], shape=(2, 4), dtype=int32)\n"
     ]
    }
   ],
   "source": [
    "fill_mat=tf.fill([2,4],5)\n",
    "print(fill_mat)"
   ]
  },
  {
   "cell_type": "code",
   "execution_count": null,
   "metadata": {},
   "outputs": [
    {
     "name": "stdout",
     "output_type": "stream",
     "text": [
      "tf.Tensor(\n",
      "[[1. 1. 1. 1.]\n",
      " [1. 1. 1. 1.]], shape=(2, 4), dtype=float32)\n"
     ]
    }
   ],
   "source": [
    "#We can also do this for zeros like \"tf.zeros\"\n",
    "ones_mat=tf.ones(\n",
    "    [2,4],\n",
    "    name=None\n",
    ")\n",
    "print(ones_mat)"
   ]
  },
  {
   "cell_type": "code",
   "execution_count": null,
   "metadata": {},
   "outputs": [],
   "source": []
  }
 ],
 "metadata": {
  "kernelspec": {
   "display_name": "Python 3",
   "language": "python",
   "name": "python3"
  },
  "language_info": {
   "codemirror_mode": {
    "name": "ipython",
    "version": 3
   },
   "file_extension": ".py",
   "mimetype": "text/x-python",
   "name": "python",
   "nbconvert_exporter": "python",
   "pygments_lexer": "ipython3",
   "version": "3.12.4"
  }
 },
 "nbformat": 4,
 "nbformat_minor": 2
}
